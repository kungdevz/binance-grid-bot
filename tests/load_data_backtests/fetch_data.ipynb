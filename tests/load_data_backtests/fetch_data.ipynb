{
 "cells": [
  {
   "cell_type": "code",
   "execution_count": 1,
   "id": "7ffa82f1",
   "metadata": {},
   "outputs": [],
   "source": [
    "import pandas as pd\n",
    "from binance.client import Client\n",
    "import datetime as dt\n",
    "import os"
   ]
  },
  {
   "cell_type": "code",
   "execution_count": 3,
   "id": "e822c6ae",
   "metadata": {},
   "outputs": [
    {
     "name": "stdout",
     "output_type": "stream",
     "text": [
      "✅ ข้อมูล BTCUSDT_1h ดึงสำเร็จ: (71573, 6)\n"
     ]
    }
   ],
   "source": [
    "# สร้าง Client โดยไม่ต้องใส่ API key ก็ใช้ public data ได้\n",
    "client = Client()\n",
    "\n",
    "symbol = 'BTCUSDT'\n",
    "interval = Client.KLINE_INTERVAL_1HOUR\n",
    "\n",
    "# เวลาเริ่มต้นย้อนหลัง 1 ปี\n",
    "end_time = dt.datetime.now()\n",
    "start_time = end_time - dt.timedelta(days=365*10)\n",
    "\n",
    "# ดึงข้อมูลย้อนหลัง 1 ปี\n",
    "klines = client.get_historical_klines(\n",
    "    symbol=symbol,\n",
    "    interval=interval,\n",
    "    start_str=start_time.strftime(\"%d %b %Y %H:%M:%S\"),\n",
    "    end_str=end_time.strftime(\"%d %b %Y %H:%M:%S\")\n",
    ")\n",
    "\n",
    "# แปลงข้อมูลเป็น DataFrame\n",
    "df = pd.DataFrame(klines, columns=[\n",
    "    'Timestamp', 'Open', 'High', 'Low', 'Close', 'Volume',\n",
    "    'Close_time', 'Quote_asset_volume', 'Number_of_trades',\n",
    "    'Taker_buy_base_vol', 'Taker_buy_quote_vol', 'Ignore'\n",
    "])\n",
    "\n",
    "# แปลง timestamp และเลือกเฉพาะคอลัมน์ที่จำเป็น\n",
    "df['Time'] = pd.to_datetime(df['Timestamp'], unit='ms')\n",
    "df = df[['Time', 'Open', 'High', 'Low', 'Close', 'Volume']]\n",
    "for col in ['Open', 'High', 'Low', 'Close', 'Volume']:\n",
    "    df[col] = df[col].astype(float)\n",
    "\n",
    "# บันทึกเป็น CSV (ถ้าต้องการ)\n",
    "# check, if a file is not exists so on existing delete to the old one, create a new and write data.\n",
    "name_of_file = symbol + \"_\" + interval\n",
    "\n",
    "try:\n",
    "    if os.path.exists(f'data/{name_of_file}.csv'):\n",
    "        os.remove(f'data/{name_of_file}.csv')\n",
    "        df.to_csv(f'data/{name_of_file}.csv', index=False)\n",
    "    else:\n",
    "        os.makedirs('data', exist_ok=True)\n",
    "        df.to_csv(f'data/{name_of_file}.csv', index=False)\n",
    "except FileNotFoundError:\n",
    "    print(\"❌ ไม่สามารถบันทึกไฟล์ CSV ได้\")\n",
    "\n",
    "print(f\"✅ ข้อมูล {name_of_file} ดึงสำเร็จ:\", df.shape)"
   ]
  }
 ],
 "metadata": {
  "kernelspec": {
   "display_name": "venv",
   "language": "python",
   "name": "python3"
  },
  "language_info": {
   "codemirror_mode": {
    "name": "ipython",
    "version": 3
   },
   "file_extension": ".py",
   "mimetype": "text/x-python",
   "name": "python",
   "nbconvert_exporter": "python",
   "pygments_lexer": "ipython3",
   "version": "3.12.3"
  }
 },
 "nbformat": 4,
 "nbformat_minor": 5
}
